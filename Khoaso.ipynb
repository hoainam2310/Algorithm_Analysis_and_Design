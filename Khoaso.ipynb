{
  "nbformat": 4,
  "nbformat_minor": 0,
  "metadata": {
    "colab": {
      "name": "Khoaso.ipynb",
      "provenance": []
    },
    "kernelspec": {
      "name": "python3",
      "display_name": "Python 3"
    },
    "language_info": {
      "name": "python"
    }
  },
  "cells": [
    {
      "cell_type": "markdown",
      "metadata": {
        "id": "FyyfWBMHGGSA"
      },
      "source": [
        "# 1) Abstraction:"
      ]
    },
    {
      "cell_type": "markdown",
      "metadata": {
        "id": "BTp7M8ahGKNE"
      },
      "source": [
        "Cho 1 dãy số, tìm dãy con có tổng lớn nhất và chia hết cho 3 (có thể di chuyển hoặc xoá bớt phần tử)\n"
      ]
    },
    {
      "cell_type": "markdown",
      "metadata": {
        "id": "yurX_C6lGiIO"
      },
      "source": [
        "# 2) Pattern Recognition:\n"
      ]
    },
    {
      "cell_type": "markdown",
      "metadata": {
        "id": "IS0bRzAyG-oc"
      },
      "source": [
        "Ý tưởng:\n",
        "Sử dụng biến sum để tính tổng các phần tử trong xâu\n",
        "Tồn tại 3 trường hợp có tổng chia hết cho 3:\n",
        "- Chia hết cho 3: những phần tử xuất hiện trong xâu: 0, 3, 6, 9 => sort theo thứ tự giảm dần rồi xuất kết quả\n",
        "=> sum = tổng các phần tử trong xâu\n",
        "- Chia được cho 3, dư 1: tồn tại 2 trường hợp:\n",
        "\t+ Bỏ 1 trong những phần tử sau: 1, 4, 7\n",
        "\t+ Bỏ 2 phần tử trong những phần tử sau: 2, 5, 8\n",
        "- Chia được cho 3, dư 2:\n",
        "\t+ Bỏ 1 trong những phần tử sau: 2, 5, 8\n",
        "\t+ Bỏ 2 phần tử trong những phần tử sau: 1, 4, 7\n",
        "\n",
        "Đối với trường hợp chia có dư, sort các phần tử trong mảng theo thứ tự giảm dần rồi xóa phần tử nhỏ nhất và xuất kết quả\n",
        "\n",
        "VD: \n",
        "input: 892 - thuộc trường hợp chia cho 3, dư 1\n",
        "\n",
        "output: 9 - bỏ 2 phần tử 8 và 2\n"
      ]
    }
  ]
}